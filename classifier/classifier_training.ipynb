{
 "cells": [
  {
   "cell_type": "markdown",
   "id": "9ec758a4",
   "metadata": {},
   "source": [
    "##### importing libraries"
   ]
  },
  {
   "cell_type": "code",
   "execution_count": 1,
   "id": "8c6916b0",
   "metadata": {},
   "outputs": [],
   "source": [
    "import os\n",
    "import cv2\n",
    "from random import shuffle\n",
    "import numpy as np\n",
    "import pandas as pd\n",
    "import matplotlib.pyplot as plt\n",
    "import seaborn as sns\n",
    "import pickle\n",
    "from sklearn.preprocessing import MinMaxScaler\n",
    "from sklearn.preprocessing import LabelEncoder\n",
    "from sklearn.metrics import confusion_matrix"
   ]
  },
  {
   "cell_type": "markdown",
   "id": "8793b893",
   "metadata": {},
   "source": [
    "##### extracting data from local dir"
   ]
  },
  {
   "cell_type": "code",
   "execution_count": 2,
   "id": "153bdb05",
   "metadata": {},
   "outputs": [
    {
     "name": "stdout",
     "output_type": "stream",
     "text": [
      "processed 100\n",
      "processed 200\n",
      "processed 300\n",
      "processed 400\n",
      "processed 500\n",
      "processed 600\n",
      "processed 700\n",
      "processed 800\n",
      "processed 900\n"
     ]
    }
   ],
   "source": [
    "data = {\n",
    "    'imgs' : [],\n",
    "    'labels' : []\n",
    "}\n",
    "\n",
    "datapath = r\"C:\\Users\\US593\\OneDrive\\Desktop\\conveyor_belt_pizza_counter\\classifier\\data\"\n",
    "count = 0 \n",
    "\n",
    "for classes in os.listdir(datapath):\n",
    "    classes_path = os.path.join(datapath,classes)\n",
    "    class_name = classes\n",
    "    for filename in os.listdir(classes_path):\n",
    "        if filename is not None: \n",
    "            data['labels'].append(class_name)\n",
    "            filepath = os.path.join(classes_path,filename)\n",
    "            img = cv2.imread(filepath)\n",
    "            resized_img = cv2.resize(img,(7,7))\n",
    "            img = cv2.cvtColor(resized_img,cv2.COLOR_BGR2RGB)\n",
    "            data['imgs'].append(img)\n",
    "            count += 1\n",
    "            if count%100 == 0 : \n",
    "                print(f\"processed {count}\")"
   ]
  },
  {
   "cell_type": "markdown",
   "id": "2bc453d5",
   "metadata": {},
   "source": [
    "##### shuffling data for better visualization"
   ]
  },
  {
   "cell_type": "code",
   "execution_count": 3,
   "id": "75ef7ad6",
   "metadata": {},
   "outputs": [],
   "source": [
    "combined = list(zip(data['imgs'], data['labels']))\n",
    "shuffle(combined)\n",
    "data['shuffled_imgs'],data['shuffled_labels'] = zip(*combined)"
   ]
  },
  {
   "cell_type": "markdown",
   "id": "b4bb6ad7",
   "metadata": {},
   "source": [
    "##### data visualization"
   ]
  },
  {
   "cell_type": "code",
   "execution_count": 4,
   "id": "c0fb21e0",
   "metadata": {},
   "outputs": [
    {
     "data": {
      "image/png": "[encoded data removed]",
      "text/plain": [
       "<Figure size 640x480 with 16 Axes>"
      ]
     },
     "metadata": {},
     "output_type": "display_data"
    }
   ],
   "source": [
    "i = 0\n",
    "for label , img in zip(data['shuffled_labels'][:16],data['shuffled_imgs'][:16]):\n",
    "    ax = plt.subplot(4,4,i+1) # create subplot with in grid with (rows,columns,index)\n",
    "    plt.imshow(img)\n",
    "    plt.title(label)\n",
    "    plt.axis('off')\n",
    "    i += 1\n",
    "    if i == 16:\n",
    "        break"
   ]
  },
  {
   "cell_type": "markdown",
   "id": "03697491",
   "metadata": {},
   "source": [
    "##### label_encoding"
   ]
  },
  {
   "cell_type": "code",
   "execution_count": 5,
   "id": "0a1bd182",
   "metadata": {},
   "outputs": [
    {
     "data": {
      "text/plain": [
       "dict_keys(['imgs', 'labels', 'shuffled_imgs', 'shuffled_labels'])"
      ]
     },
     "execution_count": 5,
     "metadata": {},
     "output_type": "execute_result"
    }
   ],
   "source": [
    "data.keys()"
   ]
  },
  {
   "cell_type": "code",
   "execution_count": 6,
   "id": "d8003c22",
   "metadata": {},
   "outputs": [],
   "source": [
    "labels = np.array(data['shuffled_labels'])"
   ]
  },
  {
   "cell_type": "code",
   "execution_count": 7,
   "id": "aaf581f9",
   "metadata": {},
   "outputs": [],
   "source": [
    "le = LabelEncoder()\n",
    "encoded_labels = le.fit_transform(labels)"
   ]
  },
  {
   "cell_type": "code",
   "execution_count": 8,
   "id": "589affd8",
   "metadata": {},
   "outputs": [
    {
     "data": {
      "text/plain": [
       "(983,)"
      ]
     },
     "execution_count": 8,
     "metadata": {},
     "output_type": "execute_result"
    }
   ],
   "source": [
    "encoded_labels.shape"
   ]
  },
  {
   "cell_type": "code",
   "execution_count": 9,
   "id": "847ba5c6",
   "metadata": {},
   "outputs": [
    {
     "data": {
      "text/plain": [
       "array([1, 0, 1, 1, 1], dtype=int64)"
      ]
     },
     "execution_count": 9,
     "metadata": {},
     "output_type": "execute_result"
    }
   ],
   "source": [
    "encoded_labels[:5]"
   ]
  },
  {
   "cell_type": "markdown",
   "id": "88c10238",
   "metadata": {},
   "source": [
    "1 ==> pizza\n",
    "\n",
    "0 ==> no_pizza"
   ]
  },
  {
   "cell_type": "markdown",
   "id": "0fb94b87",
   "metadata": {},
   "source": [
    "##### flattening-out images"
   ]
  },
  {
   "cell_type": "code",
   "execution_count": 10,
   "id": "f0e1c67d",
   "metadata": {},
   "outputs": [],
   "source": [
    "images = np.array(data['shuffled_imgs'])"
   ]
  },
  {
   "cell_type": "code",
   "execution_count": 11,
   "id": "f8dd121f",
   "metadata": {},
   "outputs": [
    {
     "data": {
      "text/plain": [
       "(983, 7, 7, 3)"
      ]
     },
     "execution_count": 11,
     "metadata": {},
     "output_type": "execute_result"
    }
   ],
   "source": [
    "images.shape"
   ]
  },
  {
   "cell_type": "code",
   "execution_count": 13,
   "id": "c2b07d23",
   "metadata": {},
   "outputs": [],
   "source": [
    "flattened_imgs = np.reshape(images, (983,147))"
   ]
  },
  {
   "cell_type": "code",
   "execution_count": 14,
   "id": "8fae6533",
   "metadata": {},
   "outputs": [
    {
     "data": {
      "text/plain": [
       "(983, 147)"
      ]
     },
     "execution_count": 14,
     "metadata": {},
     "output_type": "execute_result"
    }
   ],
   "source": [
    "flattened_imgs.shape"
   ]
  },
  {
   "cell_type": "markdown",
   "id": "6389dfc1",
   "metadata": {},
   "source": [
    "##### normalization"
   ]
  },
  {
   "cell_type": "code",
   "execution_count": 15,
   "id": "27fb741d",
   "metadata": {},
   "outputs": [
    {
     "data": {
      "text/plain": [
       "array([243, 226, 196, 249, 232, 202, 247, 231, 205, 250], dtype=uint8)"
      ]
     },
     "execution_count": 15,
     "metadata": {},
     "output_type": "execute_result"
    }
   ],
   "source": [
    "flattened_imgs[0][:10]"
   ]
  },
  {
   "cell_type": "code",
   "execution_count": 16,
   "id": "a57eb934",
   "metadata": {},
   "outputs": [],
   "source": [
    "scaler = MinMaxScaler()"
   ]
  },
  {
   "cell_type": "code",
   "execution_count": 17,
   "id": "9433ea93",
   "metadata": {},
   "outputs": [],
   "source": [
    "scaled_imgs = scaler.fit_transform(flattened_imgs)"
   ]
  },
  {
   "cell_type": "code",
   "execution_count": 18,
   "id": "219dd002",
   "metadata": {},
   "outputs": [
    {
     "data": {
      "text/plain": [
       "array([0.92814371, 0.91975309, 0.77083333, 0.96449704, 0.95151515,\n",
       "       0.84516129, 0.95092025, 0.93630573, 0.87313433, 0.98802395])"
      ]
     },
     "execution_count": 18,
     "metadata": {},
     "output_type": "execute_result"
    }
   ],
   "source": [
    "scaled_imgs[0][:10]"
   ]
  },
  {
   "cell_type": "code",
   "execution_count": 19,
   "id": "94029367",
   "metadata": {},
   "outputs": [],
   "source": [
    "pickle.dump(scaler, open(f'min_max_scaler.p', 'wb'))"
   ]
  },
  {
   "cell_type": "markdown",
   "id": "4a93a7ae",
   "metadata": {},
   "source": [
    "##### trian_test_split"
   ]
  },
  {
   "cell_type": "code",
   "execution_count": 20,
   "id": "f1072e39",
   "metadata": {},
   "outputs": [],
   "source": [
    "from sklearn.model_selection import train_test_split"
   ]
  },
  {
   "cell_type": "code",
   "execution_count": 21,
   "id": "87b88340",
   "metadata": {},
   "outputs": [],
   "source": [
    "x_train,x_test,y_train,y_test = train_test_split(scaled_imgs, encoded_labels, test_size = 0.2, stratify = encoded_labels, shuffle = True, random_state = 33)"
   ]
  },
  {
   "cell_type": "code",
   "execution_count": 22,
   "id": "c8506164",
   "metadata": {},
   "outputs": [
    {
     "data": {
      "text/plain": [
       "(786, 147)"
      ]
     },
     "execution_count": 22,
     "metadata": {},
     "output_type": "execute_result"
    }
   ],
   "source": [
    "x_train.shape"
   ]
  },
  {
   "cell_type": "code",
   "execution_count": 23,
   "id": "b895a1f1",
   "metadata": {},
   "outputs": [
    {
     "data": {
      "text/plain": [
       "(786,)"
      ]
     },
     "execution_count": 23,
     "metadata": {},
     "output_type": "execute_result"
    }
   ],
   "source": [
    "y_train.shape"
   ]
  },
  {
   "cell_type": "code",
   "execution_count": 24,
   "id": "7559c6e9",
   "metadata": {},
   "outputs": [
    {
     "data": {
      "text/plain": [
       "(197, 147)"
      ]
     },
     "execution_count": 24,
     "metadata": {},
     "output_type": "execute_result"
    }
   ],
   "source": [
    "x_test.shape"
   ]
  },
  {
   "cell_type": "code",
   "execution_count": 25,
   "id": "80e3ddc3",
   "metadata": {},
   "outputs": [
    {
     "data": {
      "text/plain": [
       "(197,)"
      ]
     },
     "execution_count": 25,
     "metadata": {},
     "output_type": "execute_result"
    }
   ],
   "source": [
    "y_test.shape"
   ]
  },
  {
   "cell_type": "markdown",
   "id": "b6ac3cc0",
   "metadata": {},
   "source": [
    "##### training multiple models using GridSearchCV"
   ]
  },
  {
   "cell_type": "code",
   "execution_count": 26,
   "id": "30ef453f",
   "metadata": {},
   "outputs": [],
   "source": [
    "import pickle\n",
    "import pandas as pd\n",
    "from sklearn.model_selection import ShuffleSplit, GridSearchCV\n",
    "from sklearn.naive_bayes import GaussianNB\n",
    "from sklearn.ensemble import RandomForestClassifier\n",
    "from sklearn.linear_model import LogisticRegression\n",
    "from xgboost import XGBClassifier\n",
    "from sklearn.svm import SVC\n",
    "\n",
    "def gridsearchcv(X, y):\n",
    "    algos = {\n",
    "        'naive_bayes': {\n",
    "            'model': GaussianNB(),\n",
    "            'params': {\n",
    "               'priors' : [None]\n",
    "            }\n",
    "        },\n",
    "        'random_forest': {\n",
    "            'model': RandomForestClassifier(),\n",
    "            'params': {\n",
    "                'criterion' : ['gini']\n",
    "            }\n",
    "        },\n",
    "        'logistic_regression': {\n",
    "            'model': LogisticRegression(max_iter=10000),\n",
    "            'params': {}  # No hyperparameters to tune\n",
    "        },\n",
    "        'xgboost': {\n",
    "            'model': XGBClassifier(),\n",
    "            'params': {}  # No hyperparameters to tune\n",
    "        },\n",
    "        'svc': {\n",
    "            'model': SVC(),\n",
    "            'params': {\n",
    "                'kernel': ['linear', 'poly', 'rbf'],\n",
    "                'C': [0.1, 1],\n",
    "                'gamma': ['scale']\n",
    "            }\n",
    "        }\n",
    "    }\n",
    "    scores = []\n",
    "    cv = ShuffleSplit(n_splits=5, test_size=0.2, random_state=0)\n",
    "    for algo_name, config in algos.items():\n",
    "        gscv = GridSearchCV(config['model'], config['params'], cv=cv, return_train_score=False)\n",
    "        gscv.fit(X, y)\n",
    "        scores.append({\n",
    "            'model': algo_name,\n",
    "            'best_score': gscv.best_score_,\n",
    "            'best_params': gscv.best_params_\n",
    "        })\n",
    "        best_estimator = gscv.best_estimator_\n",
    "        pickle.dump(best_estimator, open(f'{algo_name}_model.p', 'wb'))\n",
    "        \n",
    "    return pd.DataFrame(scores, columns=['model', 'best_score', 'best_params'])"
   ]
  },
  {
   "cell_type": "code",
   "execution_count": 27,
   "id": "429e6871",
   "metadata": {},
   "outputs": [],
   "source": [
    "stats = gridsearchcv(x_train,y_train)"
   ]
  },
  {
   "cell_type": "markdown",
   "id": "405bc75f",
   "metadata": {},
   "source": [
    "##### saving & showing training stats"
   ]
  },
  {
   "cell_type": "code",
   "execution_count": 28,
   "id": "198a92c3",
   "metadata": {},
   "outputs": [],
   "source": [
    "stats.to_csv('stats.csv')"
   ]
  },
  {
   "cell_type": "code",
   "execution_count": 29,
   "id": "c1a72477",
   "metadata": {},
   "outputs": [
    {
     "data": {
      "text/html": [
       "<div>\n",
       "<style scoped>\n",
       "    .dataframe tbody tr th:only-of-type {\n",
       "        vertical-align: middle;\n",
       "    }\n",
       "\n",
       "    .dataframe tbody tr th {\n",
       "        vertical-align: top;\n",
       "    }\n",
       "\n",
       "    .dataframe thead th {\n",
       "        text-align: right;\n",
       "    }\n",
       "</style>\n",
       "<table border=\"1\" class=\"dataframe\">\n",
       "  <thead>\n",
       "    <tr style=\"text-align: right;\">\n",
       "      <th></th>\n",
       "      <th>model</th>\n",
       "      <th>best_score</th>\n",
       "      <th>best_params</th>\n",
       "    </tr>\n",
       "  </thead>\n",
       "  <tbody>\n",
       "    <tr>\n",
       "      <th>0</th>\n",
       "      <td>naive_bayes</td>\n",
       "      <td>0.962025</td>\n",
       "      <td>{'priors': None}</td>\n",
       "    </tr>\n",
       "    <tr>\n",
       "      <th>1</th>\n",
       "      <td>random_forest</td>\n",
       "      <td>0.986076</td>\n",
       "      <td>{'criterion': 'gini'}</td>\n",
       "    </tr>\n",
       "    <tr>\n",
       "      <th>2</th>\n",
       "      <td>logistic_regression</td>\n",
       "      <td>0.974684</td>\n",
       "      <td>{}</td>\n",
       "    </tr>\n",
       "    <tr>\n",
       "      <th>3</th>\n",
       "      <td>xgboost</td>\n",
       "      <td>0.984810</td>\n",
       "      <td>{}</td>\n",
       "    </tr>\n",
       "    <tr>\n",
       "      <th>4</th>\n",
       "      <td>svc</td>\n",
       "      <td>0.978481</td>\n",
       "      <td>{'C': 1, 'gamma': 'scale', 'kernel': 'linear'}</td>\n",
       "    </tr>\n",
       "  </tbody>\n",
       "</table>\n",
       "</div>"
      ],
      "text/plain": [
       "                 model  best_score  \\\n",
       "0          naive_bayes    0.962025   \n",
       "1        random_forest    0.986076   \n",
       "2  logistic_regression    0.974684   \n",
       "3              xgboost    0.984810   \n",
       "4                  svc    0.978481   \n",
       "\n",
       "                                      best_params  \n",
       "0                                {'priors': None}  \n",
       "1                           {'criterion': 'gini'}  \n",
       "2                                              {}  \n",
       "3                                              {}  \n",
       "4  {'C': 1, 'gamma': 'scale', 'kernel': 'linear'}  "
      ]
     },
     "execution_count": 29,
     "metadata": {},
     "output_type": "execute_result"
    }
   ],
   "source": [
    "stats"
   ]
  },
  {
   "cell_type": "markdown",
   "id": "651614a5",
   "metadata": {},
   "source": [
    "##### Naive Bayes Model Evaluation"
   ]
  },
  {
   "cell_type": "code",
   "execution_count": 30,
   "id": "307e96b3",
   "metadata": {},
   "outputs": [],
   "source": [
    "with open('naive_bayes_model.p', 'rb') as file:\n",
    "    model1 = pickle.load(file)"
   ]
  },
  {
   "cell_type": "code",
   "execution_count": 31,
   "id": "9ad164e2",
   "metadata": {},
   "outputs": [
    {
     "data": {
      "text/plain": [
       "0.9516539440203562"
      ]
     },
     "execution_count": 31,
     "metadata": {},
     "output_type": "execute_result"
    }
   ],
   "source": [
    "model1.score(x_train,y_train)"
   ]
  },
  {
   "cell_type": "code",
   "execution_count": 32,
   "id": "0132214a",
   "metadata": {},
   "outputs": [
    {
     "data": {
      "text/plain": [
       "0.949238578680203"
      ]
     },
     "execution_count": 32,
     "metadata": {},
     "output_type": "execute_result"
    }
   ],
   "source": [
    "model1.score(x_test,y_test)"
   ]
  },
  {
   "cell_type": "code",
   "execution_count": 33,
   "id": "66a5a6ca",
   "metadata": {},
   "outputs": [
    {
     "data": {
      "text/plain": [
       "Text(58.222222222222214, 0.5, 'Truth')"
      ]
     },
     "execution_count": 33,
     "metadata": {},
     "output_type": "execute_result"
    },
    {
     "data": {
      "image/png": "[encoded data removed]",
      "text/plain": [
       "<Figure size 700x500 with 2 Axes>"
      ]
     },
     "metadata": {},
     "output_type": "display_data"
    }
   ],
   "source": [
    "cm = confusion_matrix(y_test, model1.predict(x_test))\n",
    "plt.figure(figsize = (7,5))\n",
    "sns.heatmap(cm, annot=True, cmap=plt.cm.Blues)\n",
    "plt.xlabel('Predicted')\n",
    "plt.ylabel('Truth')"
   ]
  },
  {
   "cell_type": "markdown",
   "id": "342ade45",
   "metadata": {},
   "source": [
    "##### Random Forest Model Evaluation"
   ]
  },
  {
   "cell_type": "code",
   "execution_count": 34,
   "id": "80adaa2c",
   "metadata": {},
   "outputs": [],
   "source": [
    "with open('random_forest_model.p', 'rb') as file:\n",
    "    model2 = pickle.load(file)"
   ]
  },
  {
   "cell_type": "code",
   "execution_count": 35,
   "id": "683a1040",
   "metadata": {},
   "outputs": [
    {
     "data": {
      "text/plain": [
       "0.9949109414758269"
      ]
     },
     "execution_count": 35,
     "metadata": {},
     "output_type": "execute_result"
    }
   ],
   "source": [
    "model2.score(x_train,y_train)"
   ]
  },
  {
   "cell_type": "code",
   "execution_count": 36,
   "id": "180051ba",
   "metadata": {},
   "outputs": [
    {
     "data": {
      "text/plain": [
       "1.0"
      ]
     },
     "execution_count": 36,
     "metadata": {},
     "output_type": "execute_result"
    }
   ],
   "source": [
    "model2.score(x_test,y_test)"
   ]
  },
  {
   "cell_type": "code",
   "execution_count": 37,
   "id": "d323b45e",
   "metadata": {},
   "outputs": [
    {
     "data": {
      "text/plain": [
       "Text(58.222222222222214, 0.5, 'Truth')"
      ]
     },
     "execution_count": 37,
     "metadata": {},
     "output_type": "execute_result"
    },
    {
     "data": {
      "image/png": "[encoded data removed]",
      "text/plain": [
       "<Figure size 700x500 with 2 Axes>"
      ]
     },
     "metadata": {},
     "output_type": "display_data"
    }
   ],
   "source": [
    "cm = confusion_matrix(y_test, model2.predict(x_test))\n",
    "plt.figure(figsize = (7,5))\n",
    "sns.heatmap(cm, annot=True, cmap=plt.cm.Blues)\n",
    "plt.xlabel('Predicted')\n",
    "plt.ylabel('Truth')"
   ]
  },
  {
   "cell_type": "markdown",
   "id": "3b09862c",
   "metadata": {},
   "source": [
    "##### Logisitic Regression Model Evaluation"
   ]
  },
  {
   "cell_type": "code",
   "execution_count": 38,
   "id": "c3aacab4",
   "metadata": {},
   "outputs": [],
   "source": [
    "with open('logistic_regression_model.p', 'rb') as file:\n",
    "    model3 = pickle.load(file)"
   ]
  },
  {
   "cell_type": "code",
   "execution_count": 39,
   "id": "5f635942",
   "metadata": {},
   "outputs": [
    {
     "data": {
      "text/plain": [
       "0.9758269720101781"
      ]
     },
     "execution_count": 39,
     "metadata": {},
     "output_type": "execute_result"
    }
   ],
   "source": [
    "model3.score(x_train,y_train)"
   ]
  },
  {
   "cell_type": "code",
   "execution_count": 40,
   "id": "492f4ddb",
   "metadata": {},
   "outputs": [
    {
     "data": {
      "text/plain": [
       "0.9746192893401016"
      ]
     },
     "execution_count": 40,
     "metadata": {},
     "output_type": "execute_result"
    }
   ],
   "source": [
    "model3.score(x_test,y_test)"
   ]
  },
  {
   "cell_type": "code",
   "execution_count": 41,
   "id": "18534490",
   "metadata": {},
   "outputs": [
    {
     "data": {
      "text/plain": [
       "Text(58.222222222222214, 0.5, 'Truth')"
      ]
     },
     "execution_count": 41,
     "metadata": {},
     "output_type": "execute_result"
    },
    {
     "data": {
      "image/png": "[encoded data removed]",
      "text/plain": [
       "<Figure size 700x500 with 2 Axes>"
      ]
     },
     "metadata": {},
     "output_type": "display_data"
    }
   ],
   "source": [
    "cm = confusion_matrix(y_test, model3.predict(x_test))\n",
    "plt.figure(figsize = (7,5))\n",
    "sns.heatmap(cm, annot=True, cmap=plt.cm.Blues)\n",
    "plt.xlabel('Predicted')\n",
    "plt.ylabel('Truth')"
   ]
  },
  {
   "cell_type": "markdown",
   "id": "0fecea82",
   "metadata": {},
   "source": [
    "##### XGBoost Model Evaluation"
   ]
  },
  {
   "cell_type": "code",
   "execution_count": 42,
   "id": "d58dfff1",
   "metadata": {},
   "outputs": [],
   "source": [
    "with open('xgboost_model.p', 'rb') as file:\n",
    "    model4 = pickle.load(file)"
   ]
  },
  {
   "cell_type": "code",
   "execution_count": 43,
   "id": "d005e878",
   "metadata": {},
   "outputs": [
    {
     "data": {
      "text/plain": [
       "0.9949109414758269"
      ]
     },
     "execution_count": 43,
     "metadata": {},
     "output_type": "execute_result"
    }
   ],
   "source": [
    "model4.score(x_train,y_train)"
   ]
  },
  {
   "cell_type": "code",
   "execution_count": 44,
   "id": "dd20ae40",
   "metadata": {},
   "outputs": [
    {
     "data": {
      "text/plain": [
       "0.9847715736040609"
      ]
     },
     "execution_count": 44,
     "metadata": {},
     "output_type": "execute_result"
    }
   ],
   "source": [
    "model4.score(x_test,y_test)"
   ]
  },
  {
   "cell_type": "code",
   "execution_count": 45,
   "id": "bfd30f79",
   "metadata": {},
   "outputs": [
    {
     "data": {
      "text/plain": [
       "Text(58.222222222222214, 0.5, 'Truth')"
      ]
     },
     "execution_count": 45,
     "metadata": {},
     "output_type": "execute_result"
    },
    {
     "data": {
      "image/png": "[encoded data removed]",
      "text/plain": [
       "<Figure size 700x500 with 2 Axes>"
      ]
     },
     "metadata": {},
     "output_type": "display_data"
    }
   ],
   "source": [
    "cm = confusion_matrix(y_test, model4.predict(x_test))\n",
    "plt.figure(figsize = (7,5))\n",
    "sns.heatmap(cm, annot=True, cmap=plt.cm.Blues)\n",
    "plt.xlabel('Predicted')\n",
    "plt.ylabel('Truth')"
   ]
  },
  {
   "cell_type": "markdown",
   "id": "51bc02d3",
   "metadata": {},
   "source": [
    "##### SVC Model Evaluation"
   ]
  },
  {
   "cell_type": "code",
   "execution_count": 46,
   "id": "bf754343",
   "metadata": {},
   "outputs": [],
   "source": [
    "with open('svc_model.p', 'rb') as file:\n",
    "    model5 = pickle.load(file)"
   ]
  },
  {
   "cell_type": "code",
   "execution_count": 47,
   "id": "964e78aa",
   "metadata": {},
   "outputs": [
    {
     "data": {
      "text/plain": [
       "0.9834605597964376"
      ]
     },
     "execution_count": 47,
     "metadata": {},
     "output_type": "execute_result"
    }
   ],
   "source": [
    "model5.score(x_train,y_train)"
   ]
  },
  {
   "cell_type": "code",
   "execution_count": 48,
   "id": "37b480c9",
   "metadata": {},
   "outputs": [
    {
     "data": {
      "text/plain": [
       "0.9847715736040609"
      ]
     },
     "execution_count": 48,
     "metadata": {},
     "output_type": "execute_result"
    }
   ],
   "source": [
    "model5.score(x_test,y_test)"
   ]
  },
  {
   "cell_type": "code",
   "execution_count": 49,
   "id": "02046158",
   "metadata": {},
   "outputs": [
    {
     "data": {
      "text/plain": [
       "Text(58.222222222222214, 0.5, 'Truth')"
      ]
     },
     "execution_count": 49,
     "metadata": {},
     "output_type": "execute_result"
    },
    {
     "data": {
      "image/png": "[encoded data removed]",
      "text/plain": [
       "<Figure size 700x500 with 2 Axes>"
      ]
     },
     "metadata": {},
     "output_type": "display_data"
    }
   ],
   "source": [
    "cm = confusion_matrix(y_test, model5.predict(x_test))\n",
    "plt.figure(figsize = (7,5))\n",
    "sns.heatmap(cm, annot=True, cmap=plt.cm.Blues)\n",
    "plt.xlabel('Predicted')\n",
    "plt.ylabel('Truth')"
   ]
  },
  {
   "cell_type": "code",
   "execution_count": null,
   "id": "a2520ef0",
   "metadata": {},
   "outputs": [],
   "source": []
  },
  {
   "cell_type": "code",
   "execution_count": null,
   "id": "e4c0c3cb",
   "metadata": {},
   "outputs": [],
   "source": []
  }
 ],
 "metadata": {
  "kernelspec": {
   "display_name": "Python 3 (ipykernel)",
   "language": "python",
   "name": "python3"
  },
  "language_info": {
   "codemirror_mode": {
    "name": "ipython",
    "version": 3
   },
   "file_extension": ".py",
   "mimetype": "text/x-python",
   "name": "python",
   "nbconvert_exporter": "python",
   "pygments_lexer": "ipython3",
   "version": "3.11.5"
  }
 },
 "nbformat": 4,
 "nbformat_minor": 5
}
